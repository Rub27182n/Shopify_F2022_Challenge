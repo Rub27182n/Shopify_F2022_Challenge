{
 "cells": [
  {
   "cell_type": "markdown",
   "id": "c32812f6",
   "metadata": {},
   "source": [
    "# Fall 2022 Data Science Intern Challenge\n",
    "\n",
    "Please complete the following questions, and provide your thought process/work. You can\n",
    "attach your work in a text file, link, etc. on the application page. Please ensure answers are\n",
    "easily visible for reviewers!"
   ]
  },
  {
   "cell_type": "code",
   "execution_count": 1,
   "id": "98d74aec",
   "metadata": {},
   "outputs": [],
   "source": [
    "import pandas as pd\n",
    "import matplotlib.pyplot as plt\n",
    "from collections import Counter\n",
    "import numpy as np"
   ]
  },
  {
   "cell_type": "markdown",
   "id": "08a24b8b",
   "metadata": {},
   "source": [
    "**Question 1: Given some sample data, write a program to answer the following: [click here](https://docs.google.com/spreadsheets/d/16i38oonuX1y1g7C_UAmiK9GkY7cS-64DfiDMNiR41LM/edit#gid=0) to\n",
    "access the required data set**\n",
    "\n",
    "On Shopify, we have exactly 100 sneaker shops, and each of these shops sells only one\n",
    "model of shoe. We want to do some analysis of the average order value (AOV). When\n",
    "we look at orders data over a 30 day window, we naively calculate an AOV of $3145.13.\n",
    "Given that we know these shops are selling sneakers, a relatively affordable item,\n",
    "something seems wrong with our analysis."
   ]
  },
  {
   "cell_type": "code",
   "execution_count": 2,
   "id": "a47371fb",
   "metadata": {},
   "outputs": [],
   "source": [
    "df = pd.read_csv('ds.csv')"
   ]
  },
  {
   "cell_type": "code",
   "execution_count": 3,
   "id": "464bded3",
   "metadata": {},
   "outputs": [
    {
     "data": {
      "text/html": [
       "<div>\n",
       "<style scoped>\n",
       "    .dataframe tbody tr th:only-of-type {\n",
       "        vertical-align: middle;\n",
       "    }\n",
       "\n",
       "    .dataframe tbody tr th {\n",
       "        vertical-align: top;\n",
       "    }\n",
       "\n",
       "    .dataframe thead th {\n",
       "        text-align: right;\n",
       "    }\n",
       "</style>\n",
       "<table border=\"1\" class=\"dataframe\">\n",
       "  <thead>\n",
       "    <tr style=\"text-align: right;\">\n",
       "      <th></th>\n",
       "      <th>order_id</th>\n",
       "      <th>shop_id</th>\n",
       "      <th>user_id</th>\n",
       "      <th>order_amount</th>\n",
       "      <th>total_items</th>\n",
       "      <th>payment_method</th>\n",
       "      <th>created_at</th>\n",
       "    </tr>\n",
       "  </thead>\n",
       "  <tbody>\n",
       "    <tr>\n",
       "      <th>0</th>\n",
       "      <td>1</td>\n",
       "      <td>53</td>\n",
       "      <td>746</td>\n",
       "      <td>224</td>\n",
       "      <td>2</td>\n",
       "      <td>cash</td>\n",
       "      <td>2017-03-13 12:36:56</td>\n",
       "    </tr>\n",
       "    <tr>\n",
       "      <th>1</th>\n",
       "      <td>2</td>\n",
       "      <td>92</td>\n",
       "      <td>925</td>\n",
       "      <td>90</td>\n",
       "      <td>1</td>\n",
       "      <td>cash</td>\n",
       "      <td>2017-03-03 17:38:52</td>\n",
       "    </tr>\n",
       "    <tr>\n",
       "      <th>2</th>\n",
       "      <td>3</td>\n",
       "      <td>44</td>\n",
       "      <td>861</td>\n",
       "      <td>144</td>\n",
       "      <td>1</td>\n",
       "      <td>cash</td>\n",
       "      <td>2017-03-14 4:23:56</td>\n",
       "    </tr>\n",
       "    <tr>\n",
       "      <th>3</th>\n",
       "      <td>4</td>\n",
       "      <td>18</td>\n",
       "      <td>935</td>\n",
       "      <td>156</td>\n",
       "      <td>1</td>\n",
       "      <td>credit_card</td>\n",
       "      <td>2017-03-26 12:43:37</td>\n",
       "    </tr>\n",
       "    <tr>\n",
       "      <th>4</th>\n",
       "      <td>5</td>\n",
       "      <td>18</td>\n",
       "      <td>883</td>\n",
       "      <td>156</td>\n",
       "      <td>1</td>\n",
       "      <td>credit_card</td>\n",
       "      <td>2017-03-01 4:35:11</td>\n",
       "    </tr>\n",
       "  </tbody>\n",
       "</table>\n",
       "</div>"
      ],
      "text/plain": [
       "   order_id  shop_id  user_id  order_amount  total_items payment_method  \\\n",
       "0         1       53      746           224            2           cash   \n",
       "1         2       92      925            90            1           cash   \n",
       "2         3       44      861           144            1           cash   \n",
       "3         4       18      935           156            1    credit_card   \n",
       "4         5       18      883           156            1    credit_card   \n",
       "\n",
       "            created_at  \n",
       "0  2017-03-13 12:36:56  \n",
       "1  2017-03-03 17:38:52  \n",
       "2   2017-03-14 4:23:56  \n",
       "3  2017-03-26 12:43:37  \n",
       "4   2017-03-01 4:35:11  "
      ]
     },
     "execution_count": 3,
     "metadata": {},
     "output_type": "execute_result"
    }
   ],
   "source": [
    "df.head()"
   ]
  },
  {
   "cell_type": "code",
   "execution_count": 4,
   "id": "7270dedd",
   "metadata": {},
   "outputs": [
    {
     "data": {
      "text/html": [
       "<div>\n",
       "<style scoped>\n",
       "    .dataframe tbody tr th:only-of-type {\n",
       "        vertical-align: middle;\n",
       "    }\n",
       "\n",
       "    .dataframe tbody tr th {\n",
       "        vertical-align: top;\n",
       "    }\n",
       "\n",
       "    .dataframe thead th {\n",
       "        text-align: right;\n",
       "    }\n",
       "</style>\n",
       "<table border=\"1\" class=\"dataframe\">\n",
       "  <thead>\n",
       "    <tr style=\"text-align: right;\">\n",
       "      <th></th>\n",
       "      <th>order_amount</th>\n",
       "      <th>total_items</th>\n",
       "    </tr>\n",
       "  </thead>\n",
       "  <tbody>\n",
       "    <tr>\n",
       "      <th>count</th>\n",
       "      <td>5000.00</td>\n",
       "      <td>5000.00</td>\n",
       "    </tr>\n",
       "    <tr>\n",
       "      <th>mean</th>\n",
       "      <td>3145.13</td>\n",
       "      <td>8.79</td>\n",
       "    </tr>\n",
       "    <tr>\n",
       "      <th>std</th>\n",
       "      <td>41282.54</td>\n",
       "      <td>116.32</td>\n",
       "    </tr>\n",
       "    <tr>\n",
       "      <th>min</th>\n",
       "      <td>90.00</td>\n",
       "      <td>1.00</td>\n",
       "    </tr>\n",
       "    <tr>\n",
       "      <th>25%</th>\n",
       "      <td>163.00</td>\n",
       "      <td>1.00</td>\n",
       "    </tr>\n",
       "    <tr>\n",
       "      <th>50%</th>\n",
       "      <td>284.00</td>\n",
       "      <td>2.00</td>\n",
       "    </tr>\n",
       "    <tr>\n",
       "      <th>75%</th>\n",
       "      <td>390.00</td>\n",
       "      <td>3.00</td>\n",
       "    </tr>\n",
       "    <tr>\n",
       "      <th>max</th>\n",
       "      <td>704000.00</td>\n",
       "      <td>2000.00</td>\n",
       "    </tr>\n",
       "  </tbody>\n",
       "</table>\n",
       "</div>"
      ],
      "text/plain": [
       "       order_amount  total_items\n",
       "count       5000.00      5000.00\n",
       "mean        3145.13         8.79\n",
       "std        41282.54       116.32\n",
       "min           90.00         1.00\n",
       "25%          163.00         1.00\n",
       "50%          284.00         2.00\n",
       "75%          390.00         3.00\n",
       "max       704000.00      2000.00"
      ]
     },
     "execution_count": 4,
     "metadata": {},
     "output_type": "execute_result"
    }
   ],
   "source": [
    "round(df[['order_amount', 'total_items']].describe(), 2)"
   ]
  },
  {
   "cell_type": "code",
   "execution_count": 5,
   "id": "e78635f1",
   "metadata": {},
   "outputs": [
    {
     "data": {
      "image/png": "[encoded data removed]",
      "text/plain": [
       "<Figure size 432x288 with 1 Axes>"
      ]
     },
     "metadata": {
      "needs_background": "light"
     },
     "output_type": "display_data"
    }
   ],
   "source": [
    "plt.hist(df['order_amount']);"
   ]
  },
  {
   "cell_type": "code",
   "execution_count": 6,
   "id": "c86a164c",
   "metadata": {},
   "outputs": [
    {
     "data": {
      "text/plain": [
       "Counter({False: 4937, True: 63})"
      ]
     },
     "execution_count": 6,
     "metadata": {},
     "output_type": "execute_result"
    }
   ],
   "source": [
    "Counter(df['order_amount'] > 2000)"
   ]
  },
  {
   "cell_type": "code",
   "execution_count": 7,
   "id": "03947e08",
   "metadata": {},
   "outputs": [
    {
     "data": {
      "text/plain": [
       "Int64Index([  15,   60,  520, 1104, 1362, 1436, 1562, 1602, 2153, 2297, 2835,\n",
       "            2969, 3332, 4056, 4646, 4868, 4882],\n",
       "           dtype='int64')"
      ]
     },
     "execution_count": 7,
     "metadata": {},
     "output_type": "execute_result"
    }
   ],
   "source": [
    "index1 = df[(df['order_amount'] == 704000)].index\n",
    "index1"
   ]
  },
  {
   "cell_type": "code",
   "execution_count": 8,
   "id": "7b78efae",
   "metadata": {},
   "outputs": [],
   "source": [
    "dfx = df"
   ]
  },
  {
   "cell_type": "code",
   "execution_count": 9,
   "id": "34887656",
   "metadata": {},
   "outputs": [],
   "source": [
    "dfx.drop(index1, inplace = True)"
   ]
  },
  {
   "cell_type": "code",
   "execution_count": 10,
   "id": "91a7b344",
   "metadata": {},
   "outputs": [
    {
     "data": {
      "text/plain": [
       "Int64Index([ 160,  490,  493,  511,  617,  691, 1056, 1193, 1204, 1259, 1384,\n",
       "            1419, 1452, 1529, 2270, 2452, 2492, 2495, 2512, 2548, 2564, 2690,\n",
       "            2773, 2818, 2821, 2906, 2922, 3085, 3101, 3151, 3167, 3403, 3440,\n",
       "            3705, 3724, 3780, 4040, 4079, 4192, 4311, 4412, 4420, 4505, 4584,\n",
       "            4715, 4918],\n",
       "           dtype='int64')"
      ]
     },
     "execution_count": 10,
     "metadata": {},
     "output_type": "execute_result"
    }
   ],
   "source": [
    "index2 = dfx[(dfx['order_amount'] > 2000)].index\n",
    "index2"
   ]
  },
  {
   "cell_type": "code",
   "execution_count": 11,
   "id": "3b998237",
   "metadata": {},
   "outputs": [],
   "source": [
    "dfx.drop(index2, inplace = True)"
   ]
  },
  {
   "cell_type": "markdown",
   "id": "bcb2147f",
   "metadata": {},
   "source": [
    "- **Think about what could be going wrong with our calculation. Think about a better way to evaluate this data.**\n",
    "    \n",
    "    There’s outliers, an order of 704,000 because someone bought 2000 items which affects directly the metric used (average). By exploring those transactions, it look suspicious because all of them were made by the same user id, same hour, same amount, items, and in the same shop. I would say this is clearly a fraud, so I would discard them.\n",
    "    \n",
    "    The other outliers, that doesn’t occur as the previous one and can be qualified as errors, so those can be deleted from the dataset, because they have a high amount of purchase with < 5 total items."
   ]
  },
  {
   "cell_type": "code",
   "execution_count": 12,
   "id": "22a95209",
   "metadata": {},
   "outputs": [
    {
     "data": {
      "image/png": "[encoded data removed]",
      "text/plain": [
       "<Figure size 432x288 with 1 Axes>"
      ]
     },
     "metadata": {
      "needs_background": "light"
     },
     "output_type": "display_data"
    }
   ],
   "source": [
    "plt.hist(dfx['order_amount']);"
   ]
  },
  {
   "cell_type": "code",
   "execution_count": 13,
   "id": "7b1dbec3",
   "metadata": {},
   "outputs": [
    {
     "data": {
      "image/png": "[encoded data removed]",
      "text/plain": [
       "<Figure size 432x288 with 1 Axes>"
      ]
     },
     "metadata": {
      "needs_background": "light"
     },
     "output_type": "display_data"
    }
   ],
   "source": [
    "plt.hist(dfx['total_items']);"
   ]
  },
  {
   "cell_type": "code",
   "execution_count": 14,
   "id": "d2b36100",
   "metadata": {
    "scrolled": true
   },
   "outputs": [
    {
     "data": {
      "text/html": [
       "<div>\n",
       "<style scoped>\n",
       "    .dataframe tbody tr th:only-of-type {\n",
       "        vertical-align: middle;\n",
       "    }\n",
       "\n",
       "    .dataframe tbody tr th {\n",
       "        vertical-align: top;\n",
       "    }\n",
       "\n",
       "    .dataframe thead th {\n",
       "        text-align: right;\n",
       "    }\n",
       "</style>\n",
       "<table border=\"1\" class=\"dataframe\">\n",
       "  <thead>\n",
       "    <tr style=\"text-align: right;\">\n",
       "      <th></th>\n",
       "      <th>order_id</th>\n",
       "      <th>shop_id</th>\n",
       "      <th>user_id</th>\n",
       "      <th>order_amount</th>\n",
       "      <th>total_items</th>\n",
       "    </tr>\n",
       "  </thead>\n",
       "  <tbody>\n",
       "    <tr>\n",
       "      <th>count</th>\n",
       "      <td>4937.000000</td>\n",
       "      <td>4937.000000</td>\n",
       "      <td>4937.000000</td>\n",
       "      <td>4937.000000</td>\n",
       "      <td>4937.000000</td>\n",
       "    </tr>\n",
       "    <tr>\n",
       "      <th>mean</th>\n",
       "      <td>2499.551347</td>\n",
       "      <td>49.846465</td>\n",
       "      <td>849.752279</td>\n",
       "      <td>302.580514</td>\n",
       "      <td>1.994734</td>\n",
       "    </tr>\n",
       "    <tr>\n",
       "      <th>std</th>\n",
       "      <td>1444.069407</td>\n",
       "      <td>29.061131</td>\n",
       "      <td>86.840313</td>\n",
       "      <td>160.804912</td>\n",
       "      <td>0.982821</td>\n",
       "    </tr>\n",
       "    <tr>\n",
       "      <th>min</th>\n",
       "      <td>1.000000</td>\n",
       "      <td>1.000000</td>\n",
       "      <td>700.000000</td>\n",
       "      <td>90.000000</td>\n",
       "      <td>1.000000</td>\n",
       "    </tr>\n",
       "    <tr>\n",
       "      <th>25%</th>\n",
       "      <td>1248.000000</td>\n",
       "      <td>24.000000</td>\n",
       "      <td>775.000000</td>\n",
       "      <td>163.000000</td>\n",
       "      <td>1.000000</td>\n",
       "    </tr>\n",
       "    <tr>\n",
       "      <th>50%</th>\n",
       "      <td>2497.000000</td>\n",
       "      <td>50.000000</td>\n",
       "      <td>850.000000</td>\n",
       "      <td>284.000000</td>\n",
       "      <td>2.000000</td>\n",
       "    </tr>\n",
       "    <tr>\n",
       "      <th>75%</th>\n",
       "      <td>3751.000000</td>\n",
       "      <td>74.000000</td>\n",
       "      <td>925.000000</td>\n",
       "      <td>387.000000</td>\n",
       "      <td>3.000000</td>\n",
       "    </tr>\n",
       "    <tr>\n",
       "      <th>max</th>\n",
       "      <td>5000.000000</td>\n",
       "      <td>100.000000</td>\n",
       "      <td>999.000000</td>\n",
       "      <td>1760.000000</td>\n",
       "      <td>8.000000</td>\n",
       "    </tr>\n",
       "  </tbody>\n",
       "</table>\n",
       "</div>"
      ],
      "text/plain": [
       "          order_id      shop_id      user_id  order_amount  total_items\n",
       "count  4937.000000  4937.000000  4937.000000   4937.000000  4937.000000\n",
       "mean   2499.551347    49.846465   849.752279    302.580514     1.994734\n",
       "std    1444.069407    29.061131    86.840313    160.804912     0.982821\n",
       "min       1.000000     1.000000   700.000000     90.000000     1.000000\n",
       "25%    1248.000000    24.000000   775.000000    163.000000     1.000000\n",
       "50%    2497.000000    50.000000   850.000000    284.000000     2.000000\n",
       "75%    3751.000000    74.000000   925.000000    387.000000     3.000000\n",
       "max    5000.000000   100.000000   999.000000   1760.000000     8.000000"
      ]
     },
     "execution_count": 14,
     "metadata": {},
     "output_type": "execute_result"
    }
   ],
   "source": [
    "dfx.describe()"
   ]
  },
  {
   "cell_type": "markdown",
   "id": "21f6207b",
   "metadata": {},
   "source": [
    "- **What metric would you report for this dataset?**\n",
    "    \n",
    "    By cleaning the dataset, we can still use the mean or median.\n",
    "    \n",
    "    I would report the mean.\n",
    "    \n",
    "- **What is its value?**\n",
    "302.6 / 284 respectively"
   ]
  },
  {
   "cell_type": "markdown",
   "id": "e7b8a169",
   "metadata": {},
   "source": [
    "**Question 2: For this question you’ll need to use SQL. Follow this link to access the data set\n",
    "required for the challenge. Please use queries to answer the following questions. Paste your\n",
    "queries along with your final numerical answers below.**"
   ]
  },
  {
   "cell_type": "markdown",
   "id": "f2693265",
   "metadata": {},
   "source": [
    "**How many orders were shipped by Speedy Express in total?**\n",
    "\n",
    "SELECT COUNT(DISTINCT(OrderID))\n",
    "\n",
    "FROM Orders\n",
    "\n",
    "WHERE ShipperID = 1\n",
    "\n",
    "**R= 54**"
   ]
  },
  {
   "cell_type": "markdown",
   "id": "fcbb71a3",
   "metadata": {},
   "source": [
    "**What is the last name of the employee with the most orders?**\n",
    "\n",
    "SELECT DISTINCT(EmployeeID), COUNT(EmployeeID)\n",
    "\n",
    "FROM Orders\n",
    "\n",
    "GROUP BY EmployeeID\n",
    "\n",
    "**R = ID: 4, Last Name: Peacock**"
   ]
  },
  {
   "cell_type": "markdown",
   "id": "9a09a23b",
   "metadata": {},
   "source": [
    "**What product was ordered the most by customers in Germany?**\n",
    "\n",
    "SELECT p.ProductName, SUM(Quantity) AS TotalQuantity\n",
    "\n",
    "FROM Orders AS o, OrderDetails AS od, Customers AS c, Products AS p\n",
    "\n",
    "WHERE c.Country = \"Germany\" AND od.OrderID = o.OrderIDAND od.ProductID = p.ProductIDAND c.CustomerID = o.CustomerID\n",
    "\n",
    "GROUP BY p.ProductID\n",
    "\n",
    "ORDER BY TotalQuantityDESC\n",
    "\n",
    "**R = Boston Crab Meat**"
   ]
  },
  {
   "cell_type": "code",
   "execution_count": null,
   "id": "cd08f478",
   "metadata": {},
   "outputs": [],
   "source": []
  },
  {
   "cell_type": "code",
   "execution_count": null,
   "id": "4c734138",
   "metadata": {},
   "outputs": [],
   "source": []
  }
 ],
 "metadata": {
  "kernelspec": {
   "display_name": "Python 3 (ipykernel)",
   "language": "python",
   "name": "python3"
  },
  "language_info": {
   "codemirror_mode": {
    "name": "ipython",
    "version": 3
   },
   "file_extension": ".py",
   "mimetype": "text/x-python",
   "name": "python",
   "nbconvert_exporter": "python",
   "pygments_lexer": "ipython3",
   "version": "3.9.7"
  }
 },
 "nbformat": 4,
 "nbformat_minor": 5
}
